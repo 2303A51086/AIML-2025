{
  "nbformat": 4,
  "nbformat_minor": 0,
  "metadata": {
    "colab": {
      "provenance": [],
      "authorship_tag": "ABX9TyPl2ws+8Bqcb7SGvMhQtpEO",
      "include_colab_link": true
    },
    "kernelspec": {
      "name": "python3",
      "display_name": "Python 3"
    },
    "language_info": {
      "name": "python"
    }
  },
  "cells": [
    {
      "cell_type": "markdown",
      "metadata": {
        "id": "view-in-github",
        "colab_type": "text"
      },
      "source": [
        "<a href=\"https://colab.research.google.com/github/2303A51086/AIML-2025/blob/main/Lab03_AIML.ipynb\" target=\"_parent\"><img src=\"https://colab.research.google.com/assets/colab-badge.svg\" alt=\"Open In Colab\"/></a>"
      ]
    },
    {
      "cell_type": "markdown",
      "source": [
        "1. Install the python Libraries for Game Strategy\n",
        "2. Implement a Game Class Constructor with-actions,is_terminal,result\n",
        "3. Implement a TicTocToe Player Game using game class Function"
      ],
      "metadata": {
        "id": "a7GZORBTX13r"
      }
    },
    {
      "cell_type": "code",
      "source": [
        "from collections import namedtuple, Counter, defaultdict\n",
        "import random\n",
        "import math\n",
        "import functools\n",
        "cache=functools.lru_cache(10**6)"
      ],
      "metadata": {
        "id": "pph1TGZpXjhU"
      },
      "execution_count": 1,
      "outputs": []
    },
    {
      "cell_type": "code",
      "source": [
        " class Game:\n",
        "  \"\"\"A game is similar\"\"\"\n",
        "\n",
        "\n",
        "\n",
        "  def actions(self, state):\n",
        "      \"\"\"Return a collection of the allowable moves from this state.\"\"\"\n",
        "      raise NotImplementedError\n",
        " def result(self, state, move):\n",
        "    \"\"\"Return the state that results from making a move from a state.\"\"\"\n",
        "    raise NotImplementedError\n",
        " def is_terminal(self, state):\n",
        "    \"\"\"Return True if this is a final state for the game.\"\"\"\n",
        "    return not self.actions(state)\n",
        " def utility(self, state, player):\n",
        "  \"\"\"Return the value of this final state to player.\"\"\"\n",
        "  raise NotImplementedError"
      ],
      "metadata": {
        "id": "OlocJjoeZZT0"
      },
      "execution_count": 8,
      "outputs": []
    },
    {
      "cell_type": "code",
      "source": [
        "def play game(game, strategies: dict, verbose=False):\n",
        " Play a turn−taking game. strategies is a player name: function dict,\n",
        " where function(state, game) is used to get the player s move.\n",
        " state = game.initial\n",
        " while not game.is terminal(state):\n",
        " player = state.to move\n",
        " move = strategies[player](game, state)\n",
        " state = game.result(state, move)\n",
        " if verbose:\n",
        " print( Player , player, move: , move)\n",
        " print(state)\n",
        " return state"
      ],
      "metadata": {
        "id": "0IEfMZ_cd8BE"
      },
      "execution_count": null,
      "outputs": []
    },
    {
      "cell_type": "markdown",
      "source": [
        "Part-2: Implement the Game Strategy Algorithms."
      ],
      "metadata": {
        "id": "p6EyEg-nhRBc"
      }
    },
    {
      "cell_type": "code",
      "source": [
        "def minimax_search(game, state):\n",
        "    \"\"\"Search game tree to determine best move; return (value, move) pair.\"\"\"\n",
        "\n",
        "    player = state.to_move\n",
        "    infinity = math.inf\n",
        "\n",
        "    def max_value(state):\n",
        "        if game.is_terminal(state):\n",
        "            return game.utility(state, player), None\n",
        "        v, move = -infinity, None\n",
        "        for a in game.actions(state):\n",
        "            v2, _ = min_value(game.result(state, a))\n",
        "            if v2 > v:\n",
        "                v, move = v2, a\n",
        "        return v, move\n",
        "\n",
        "    def min_value(state):\n",
        "\t#H\n",
        "        if game.is_terminal(state):\n",
        "            return game.utility(state, player), None\n",
        "        v, move = infinity, None\n",
        "        for a in game.actions(state):\n",
        "            v2, _ = max_value(game.result(state, a))\n",
        "            if v2 < v:\n",
        "                v, move = v2, a#2R\n",
        "        return v, move\n",
        "\n",
        "    return max_value(state)\n",
        ""
      ],
      "metadata": {
        "id": "KaVC5SoyhYVE"
      },
      "execution_count": 23,
      "outputs": []
    },
    {
      "cell_type": "code",
      "source": [
        "def alphabeta_search(game, state):\n",
        "    \"\"\"Search game to determine best action; use alpha-beta pruning.\"\"\"\n",
        "    player = state.to_move()\n",
        "\n",
        "    def max_value(state, alpha, beta):\n",
        "        if game.is_terminal(state):\n",
        "            return game.utility(state, player), None\n",
        "        v, move = -float('inf'), None\n",
        "        for a in game.actions(state):\n",
        "            v2, _ = min_value(game.result(state, a), alpha, beta)\n",
        "            if v2 > v:\n",
        "                v, move = v2, a\n",
        "            alpha = max(alpha, v)\n",
        "            if v >= beta:\n",
        "                return v, move\n",
        "        return v, move\n",
        "\n",
        "    def min_value(state, alpha, beta):\n",
        "        if game.is_terminal(state):\n",
        "            return game.utility(state, player), None\n",
        "        v, move = float('inf'), None\n",
        "        for a in game.actions(state):\n",
        "            v2, _ = max_value(game.result(state, a), alpha, beta)\n",
        "            if v2 < v:\n",
        "                v, move = v2, a\n",
        "            beta = min(beta, v)\n",
        "            if v <= alpha:\n",
        "                return v, move\n",
        "        return v, move\n",
        "\n",
        "    return max_value(state, -float('inf'), float('inf'))[1]"
      ],
      "metadata": {
        "id": "WY6pHTHRjZrb"
      },
      "execution_count": 24,
      "outputs": []
    },
    {
      "cell_type": "markdown",
      "source": [
        "Part 3- Implement the Game Strategy using TicTocToe"
      ],
      "metadata": {
        "id": "74L244JKjWpd"
      }
    },
    {
      "cell_type": "code",
      "source": [
        "class TicTacToe:\n",
        "    \"\"\"Play TicTacToe on a 'height' by 'width' board, needing 'k' in a row to win.\n",
        "    'X' plays first against 'O'.\"\"\"\n",
        "\n",
        "    def _init_(self, height=3, width=3, k=3):\n",
        "        self.k = k  # k in a row\n",
        "        self.squares = {(x, y) for x in range(width) for y in range(height)}\n",
        "        self.initial = Board(height=height, width=width, to_move='X', utility=0)\n",
        "\n",
        "    def actions(self, board):\n",
        "        \"\"\"Legal moves are any square not yet taken.\"\"\"\n",
        "        return self.squares - set(board.state.keys())\n",
        "\n",
        "    def result(self, board, square):\n",
        "        \"\"\"Place a marker for the current player on the square.\"\"\"\n",
        "        player = board.to_move\n",
        "        new_board_state = board.state.copy()\n",
        "        new_board_state[square] = player\n",
        "        new_board = Board(height=board.height, width=board.width, state=new_board_state,\n",
        "                          to_move=('O' if player == 'X' else 'X'), utility=0)\n",
        "        win = self.k_in_row(new_board, player, square, self.k)\n",
        "        new_board.utility = (0 if not win else +1 if player == 'X' else -1)\n",
        "        return new_board\n",
        "\n",
        "    def utility(self, board, player):\n",
        "        \"\"\"Return the value to the player; 1 for win, -1 for loss, 0 otherwise.\"\"\"\n",
        "        return board.utility if player == 'X' else -board.utility\n",
        "\n",
        "    def is_terminal(self, board):\n",
        "        \"\"\"A board is a terminal state if it is won or there are no empty squares.\"\"\"\n",
        "        return board.utility != 0 or len(self.squares) == len(board.state)\n",
        "\n",
        "    def display(self, board):\n",
        "        \"\"\"Print the board.\"\"\"\n",
        "        for y in range(board.height):\n",
        "            row = ''\n",
        "            for x in range(board.width):\n",
        "                row += board.state.get((x, y), '.') + ' '\n",
        "            print(row)\n",
        "        print()\n",
        "\n",
        "    def k_in_row(self, board, player, square, k):\n",
        "        \"\"\"True if player has k pieces in a line through square.\"\"\"\n",
        "\n",
        "        def in_row(x, y, dx, dy):\n",
        "            return 0 if board.state.get((x, y)) != player else 1 + in_row(x + dx, y + dy, dx, dy)\n",
        "\n",
        "        return any(\n",
        "            in_row(*square, dx, dy) + in_row(*square, -dx, -dy) - 1 >= k\n",
        "            for (dx, dy) in ((0, 1), (1, 0), (1, 1), (1, -1))\n",
        "        )\n",
        "\n",
        "class Board:\n",
        "    def _init_(self, height, width, state=None, to_move='X', utility=0):\n",
        "        self.height = height\n",
        "        self.width = width\n",
        "        self.state = state or {}\n",
        "        self.to_move = to_move\n",
        "        self.utility = utility\n",
        "\n",
        "    def _str_(self):\n",
        "        result = []\n",
        "        for y in range(self.height):\n",
        "            row = ''\n",
        "            for x in range(self.width):\n",
        "                row += self.state.get((x, y), '.') + ' '\n",
        "            result.append(row.strip())\n",
        "        return '\\n'.join(result)"
      ],
      "metadata": {
        "id": "DdIoEbQnjz78"
      },
      "execution_count": 25,
      "outputs": []
    },
    {
      "cell_type": "code",
      "source": [
        "from collections import defaultdict\n",
        "\n",
        "class Board(defaultdict):\n",
        "    \"\"\"A board has the player to move, a cached utility value,\n",
        "    and a dict of {(x, y): player} entries, where player is 'X' or 'O'.\"\"\"\n",
        "\n",
        "    empty = '.'\n",
        "    off = '#'\n",
        "\n",
        "    def _init_(self, width=8, height=8, to_move=None, **kwds):\n",
        "        super()._init_(self.missing)  # Initialize defaultdict with the custom missing method\n",
        "        self.width = width\n",
        "        self.height = height\n",
        "        self.to_move = to_move\n",
        "        self.update(kwds)\n",
        "\n",
        "    def new(self, changes: dict, **kwds) -> 'Board':\n",
        "        \"\"\"Given a dict of {(x, y): contents} changes, return a new Board with the changes.\"\"\"\n",
        "        board = Board(width=self.width, height=self.height, to_move=self.to_move, **kwds)\n",
        "        board.update(self)\n",
        "        board.update(changes)\n",
        "        return board\n",
        "\n",
        "    def missing(self, loc):\n",
        "        x, y = loc\n",
        "        if 0 <= x < self.width and 0 <= y < self.height:\n",
        "            return self.empty\n",
        "        else:\n",
        "            return self.off\n",
        "\n",
        "    def _hash_(self):\n",
        "        return hash(tuple(sorted(self.items()))) + hash(self.to_move)\n",
        "\n",
        "    def _repr_(self):\n",
        "        def row(y): return ' '.join(self[x, y] for x in range(self.width))\n",
        "        return '\\n'.join(map(row, range(self.height))) + '\\n'"
      ],
      "metadata": {
        "id": "7gBVkoIlmNO9"
      },
      "execution_count": 26,
      "outputs": []
    }
  ]
}